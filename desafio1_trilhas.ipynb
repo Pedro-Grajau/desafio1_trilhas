{
  "nbformat": 4,
  "nbformat_minor": 0,
  "metadata": {
    "colab": {
      "name": "desafio1_trilhas_v2.ipynb",
      "provenance": []
    },
    "kernelspec": {
      "name": "python3",
      "display_name": "Python 3"
    },
    "language_info": {
      "name": "python"
    }
  },
  "cells": [
    {
      "cell_type": "markdown",
      "metadata": {
        "id": "eTpZsyRs7z04"
      },
      "source": [
        "### **Funções Utilitárias**"
      ]
    },
    {
      "cell_type": "code",
      "metadata": {
        "id": "LQglaDyDrZW8"
      },
      "source": [
        "def cria_banner(titulo):\n",
        "  print('-' * 40)\n",
        "  print(titulo.center(40))\n",
        "  print('-' * 40 + '\\n')\n",
        "\n",
        "def menu_principal():\n",
        "  cria_banner('Super Metroid (1994)')\n",
        "  print('1 - Personagens\\n')\n",
        "  print('2 - Áreas\\n')\n",
        "  print('3 - Inimigos\\n')\n",
        "  print('0 - Sair\\n')\n",
        "  return int(input('-> '))\n",
        "\n",
        "def formata_texto(texto):\n",
        "  pos = 0\n",
        "  while pos < len(texto):\n",
        "    print(texto[pos:pos+40])\n",
        "    pos += 40\n",
        "  input(\"Pressione Enter para continuar...\")"
      ],
      "execution_count": 1,
      "outputs": []
    },
    {
      "cell_type": "markdown",
      "metadata": {
        "id": "ODb7a431774P"
      },
      "source": [
        "### **Classe**"
      ]
    },
    {
      "cell_type": "code",
      "metadata": {
        "id": "AFNKbyBoruTh"
      },
      "source": [
        "from IPython.display import clear_output\n",
        "\n",
        "class Menu:\n",
        "\n",
        "  def __init__(self, dados, titulo):\n",
        "    self.nomes = dados.nomes\n",
        "    self.descricoes = dados.descricoes\n",
        "    self.titulo = titulo\n",
        "\n",
        "  def mostra_submenu(self):\n",
        "    clear_output()\n",
        "    cria_banner(self.titulo)\n",
        "    for i, item in enumerate(self.nomes):\n",
        "      print(f'{i+1} - {item}\\n')\n",
        "    print('0 - Sair\\n')\n",
        "    return int(input('-> '))\n",
        "\n",
        "  def mostra_item_do_submenu(self, opcao):\n",
        "    clear_output()\n",
        "    indice = opcao - 1\n",
        "    if opcao not in range(1, len(self.nomes) + 1):\n",
        "      clear_output()\n",
        "      print('Digite uma opção válida\\n')\n",
        "      input(\"Pressione Enter para continuar...\")\n",
        "      return\n",
        "    else:\n",
        "      cria_banner(self.nomes[indice])\n",
        "      formata_texto(self.descricoes[indice])\n",
        "\n",
        "  def menu(self):\n",
        "    opcao_submenu = self.mostra_submenu()\n",
        "    while opcao_submenu != 0:\n",
        "      self.mostra_item_do_submenu(opcao_submenu)\n",
        "      opcao_submenu = self.mostra_submenu()\n"
      ],
      "execution_count": 6,
      "outputs": []
    },
    {
      "cell_type": "markdown",
      "metadata": {
        "id": "eLsLq0EL8E5X"
      },
      "source": [
        "### **Pegando as informações e atribuindo aos objetos**"
      ]
    },
    {
      "cell_type": "code",
      "metadata": {
        "id": "awEodM5frk2h"
      },
      "source": [
        "import requests\n",
        "import pandas as pd\n",
        "\n",
        "def retorna_dados(url):\n",
        "  dados = requests.get(url).text.split('\\n')\n",
        "  dados_separados = list(zip(*map(lambda x: x.split('|'), dados ))) #Apêndice 1\n",
        "  dados_estruturados = pd.Series({\n",
        "      'nomes': dados_separados[0],\n",
        "      'descricoes': dados_separados[1]\n",
        "  })\n",
        "  return dados_estruturados\n"
      ],
      "execution_count": 3,
      "outputs": []
    },
    {
      "cell_type": "code",
      "metadata": {
        "id": "zLdQcPTHsMB2"
      },
      "source": [
        "#Retornando os valores todos já organizados pela função anterior\n",
        "dados_pers  = retorna_dados('https://raw.githubusercontent.com/Pedro-Grajau/desafio1_trilhas/main/Personagens.txt')\n",
        "dados_areas = retorna_dados('https://raw.githubusercontent.com/Pedro-Grajau/desafio1_trilhas/main/Areas.txt')\n",
        "dados_inim  = retorna_dados('https://raw.githubusercontent.com/Pedro-Grajau/desafio1_trilhas/main/Inimigos.txt')\n",
        "\n",
        "#Criação dos objetos\n",
        "personagens = Menu(dados_pers, 'Personagens')\n",
        "areas = Menu(dados_areas, 'Areas')\n",
        "inimigos = Menu(dados_inim, 'Inimigos')"
      ],
      "execution_count": 7,
      "outputs": []
    },
    {
      "cell_type": "markdown",
      "metadata": {
        "id": "4QyRiFbY8LKh"
      },
      "source": [
        "### **Menu Principal**"
      ]
    },
    {
      "cell_type": "code",
      "metadata": {
        "id": "GclO7ec1sQS_"
      },
      "source": [
        "while True:\n",
        "  clear_output()\n",
        "  opcao = menu_principal()\n",
        "\n",
        "  if opcao == 1:\n",
        "    personagens.menu()\n",
        "\n",
        "  elif opcao == 2:\n",
        "    areas.menu()\n",
        "\n",
        "  elif opcao == 3:\n",
        "    inimigos.menu()\n",
        "  \n",
        "  elif opcao == 0:\n",
        "    break"
      ],
      "execution_count": null,
      "outputs": []
    },
    {
      "cell_type": "markdown",
      "metadata": {
        "id": "tpvoQeF38Q1V"
      },
      "source": [
        "### **Apêndice**"
      ]
    },
    {
      "cell_type": "code",
      "metadata": {
        "id": "bDKb2CNmYysF"
      },
      "source": [
        "#Apendice 1\n",
        "\n",
        "dados = ['1|a', '2|b', '3|c', '4|d', '5|e']\n",
        "\n",
        "#Primeiro de tudo é feito um map, quebrando a lista onde se encontra o |\n",
        "dados_map = list(map(lambda x: x.split('|'), dados ))\n",
        "print(dados_map)\n",
        "\n",
        "#Depois disso é feito um \"unpack\" das informações com o operador * e depois\n",
        "#separar em várias saídas com o zip()\n",
        "dados_ast = list(zip(*dados_map))\n",
        "print(dados_ast)"
      ],
      "execution_count": null,
      "outputs": []
    }
  ]
}
