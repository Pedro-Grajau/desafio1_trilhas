{
  "nbformat": 4,
  "nbformat_minor": 0,
  "metadata": {
    "colab": {
      "name": "desafio1_trilhas.ipynb",
      "provenance": []
    },
    "kernelspec": {
      "display_name": "Python 3",
      "name": "python3"
    },
    "language_info": {
      "name": "python"
    }
  },
  "cells": [
    {
      "cell_type": "markdown",
      "metadata": {
        "id": "1V1tWQdMzgmZ"
      },
      "source": [
        "### **Funções Utilitárias**\n"
      ]
    },
    {
      "cell_type": "code",
      "metadata": {
        "id": "aesJFDiC3Jtk"
      },
      "source": [
        "def cria_banner(string):\n",
        "  print('-' * 40)\n",
        "  print(string.center(40))\n",
        "  print('-' * 40 + '\\n')\n",
        "\n",
        "def menu_principal():\n",
        "  cria_banner('Super Metroid (1994)')\n",
        "  print('1 - Personagens\\n')\n",
        "  print('2 - Áreas\\n')\n",
        "  print('3 - Inimigos\\n')\n",
        "  print('0 - Sair\\n')\n",
        "  return int(input('-> '))"
      ],
      "execution_count": null,
      "outputs": []
    },
    {
      "cell_type": "markdown",
      "metadata": {
        "id": "bkhYwhx2zqG4"
      },
      "source": [
        "### **Funções dos Menus**"
      ]
    },
    {
      "cell_type": "code",
      "metadata": {
        "id": "l3zk0jBuzWZH"
      },
      "source": [
        "from IPython.display import clear_output\n",
        "\n",
        "#Cria o submenu a partir de uma lista de nomes e seus índices\n",
        "def mostra_submenu(nomes, titulo):\n",
        "  clear_output()\n",
        "  cria_banner(titulo)\n",
        "  for i, item in enumerate(nomes):\n",
        "      print(f'{i+1} - {item}\\n')\n",
        "  print('0 - Sair\\n')\n",
        "  return int(input('-> '))\n",
        "\n",
        "'''\n",
        "Após receber a opção por parâmetro o print é feito baseado na lista\n",
        "de nomes na posição \"opcao-1\" (Pelo fato do menu principal começar\n",
        "com 1). Após isso, como os textos das descrições são muito longos\n",
        "fez-se necessário realizar uma quebra de linha \"automática\" nos textos\n",
        "para melhor visualização. \n",
        "'''\n",
        "def mostra_item_do_submenu(nomes, descricao, opcao):\n",
        "  clear_output()\n",
        "  if opcao not in range(1, len(nomes) + 1):\n",
        "    clear_output()\n",
        "    print('Digite uma opção válida\\n')\n",
        "    input(\"Pressione Enter para continuar...\")\n",
        "    return\n",
        "  else:\n",
        "    cria_banner(nomes[opcao-1])\n",
        "    pos = 0\n",
        "    #Quebra de Linha\n",
        "    while pos < len(descricao[opcao-1]):\n",
        "      print(descricao[opcao-1][pos:pos+40])\n",
        "      pos += 40\n",
        "    input(\"Pressione Enter para continuar...\")\n",
        "\n",
        "'''\n",
        "Para ter mais comodidade ao usuario, pensei em no momento\n",
        "que ele saísse do item do submenu, que ele voltasse para\n",
        "o submenu em questão, e não o menu principal.\n",
        "Com isso, fiz um loop em torno do submenu até o usuário\n",
        "escolher a opcao de saida.\n",
        "'''\n",
        "def menu(dados, titulo):\n",
        "  opc_sub = mostra_submenu(dados.nomes, titulo)\n",
        "  while opc_sub != 0:\n",
        "    mostra_item_do_submenu(dados.nomes, dados.descricoes, opc_sub)\n",
        "    opc_sub = mostra_submenu(dados.nomes, titulo)"
      ],
      "execution_count": null,
      "outputs": []
    },
    {
      "cell_type": "markdown",
      "metadata": {
        "id": "s-Tmal9TzwvX"
      },
      "source": [
        "### **Pegando as informações**"
      ]
    },
    {
      "cell_type": "code",
      "metadata": {
        "id": "vnwM8RV2oejK"
      },
      "source": [
        "import requests\n",
        "import pandas as pd\n",
        "\n",
        "'''\n",
        "Com a biblioteca requests é possível realizar um requisição GET\n",
        "atraves de uma url e assim pegar o texto usando o atributo text.\n",
        "Após isso, separa-se os dados recebidos por quebra de linha e depois\n",
        "faz-se uma nova separação, agora pelo tipo, que fiz questão de separar\n",
        "pelo \"|\", por não ser um símbolo comumente usado.   \n",
        "'''\n",
        "def retorna_valores(url):\n",
        "  dados = requests.get(url).text.split('\\n')\n",
        "  dados_separados = list(zip(*map(lambda x: x.split('|'), dados ))) #Apendice 1\n",
        "  dados_estruturados = pd.Series({\n",
        "      'nomes': dados_separados[0],\n",
        "      'descricoes': dados_separados[1]\n",
        "  })\n",
        "  return dados_estruturados"
      ],
      "execution_count": null,
      "outputs": []
    },
    {
      "cell_type": "markdown",
      "metadata": {
        "id": "jHeuSufgz3jN"
      },
      "source": [
        "### **Atribuindo as informações em variáveis**"
      ]
    },
    {
      "cell_type": "code",
      "metadata": {
        "id": "Lpw3psB7w_jJ"
      },
      "source": [
        "dados_pers  = retorna_valores('https://raw.githubusercontent.com/Pedro-Grajau/desafio1_trilhas/main/Personagens.txt')\n",
        "dados_areas = retorna_valores('https://raw.githubusercontent.com/Pedro-Grajau/desafio1_trilhas/main/Areas.txt')\n",
        "dados_inim  = retorna_valores('https://raw.githubusercontent.com/Pedro-Grajau/desafio1_trilhas/main/Inimigos.txt')"
      ],
      "execution_count": null,
      "outputs": []
    },
    {
      "cell_type": "markdown",
      "metadata": {
        "id": "Vp-vsuvFUxnM"
      },
      "source": [
        "### **Menu Principal**"
      ]
    },
    {
      "cell_type": "code",
      "metadata": {
        "id": "SUdfDFiO4rYe"
      },
      "source": [
        "while True:\n",
        "  clear_output()\n",
        "  opcao = menu_principal()\n",
        "\n",
        "  if opcao == 1:\n",
        "    menu(dados_pers, 'Personagens')                            \n",
        "\n",
        "  elif opcao == 2:\n",
        "    menu(dados_areas, 'Areas')\n",
        "\n",
        "  elif opcao == 3:\n",
        "    menu(dados_inim, 'Inimigos')\n",
        "  \n",
        "  elif opcao == 0:\n",
        "    break"
      ],
      "execution_count": null,
      "outputs": []
    },
    {
      "cell_type": "markdown",
      "metadata": {
        "id": "p2paZVfZl9nZ"
      },
      "source": [
        "### **Apêndice**"
      ]
    },
    {
      "cell_type": "code",
      "metadata": {
        "id": "gg0jdwNMl5vt"
      },
      "source": [
        "#Apendice 1\n",
        "\n",
        "dados = ['1|a', '2|b', '3|c', '4|d', '5|e']\n",
        "\n",
        "#Primeiro de tudo é feito um map, quebrando a string e fazendo uma sublista \n",
        "#onde se encontra o |\n",
        "dados_map = list(map(lambda x: x.split('|'), dados ))\n",
        "print(dados_map)\n",
        "\n",
        "#Depois disso é feito um \"unpack\" das informações com o operador * e depois\n",
        "#separar em várias saídas com o zip\n",
        "dados_ast = list(zip(*dados_map))\n",
        "print(dados_ast)"
      ],
      "execution_count": null,
      "outputs": []
    }
  ]
}
