{
  "nbformat": 4,
  "nbformat_minor": 0,
  "metadata": {
    "colab": {
      "name": "desafio1_trilhas.ipynb",
      "provenance": []
    },
    "kernelspec": {
      "display_name": "Python 3",
      "name": "python3"
    },
    "language_info": {
      "name": "python"
    }
  },
  "cells": [
    {
      "cell_type": "markdown",
      "metadata": {
        "id": "ygzeMwYtTrQ5"
      },
      "source": [
        "### **Funções Utilitárias** "
      ]
    },
    {
      "cell_type": "code",
      "metadata": {
        "id": "aesJFDiC3Jtk"
      },
      "source": [
        "#Cria um banner de apresentação para cada item dentro do menu\n",
        "def cria_banner(string):\n",
        "  print('-' * 40)\n",
        "  print(string.center(40))\n",
        "  print('-' * 40 + '\\n')\n",
        "\n",
        "#Menu principal da aplicação\n",
        "def menu_principal():\n",
        "  cria_banner('Super Metroid (1994)')\n",
        "  print('1 - Personagens\\n')\n",
        "  print('2 - Áreas\\n')\n",
        "  print('3 - Inimigos\\n')\n",
        "  print('0 - Sair\\n')\n",
        "  return int(input('-> '))\n",
        "\n",
        "#Cria um submenu apartir da quantidade de nomes dentro de uma lista e\n",
        "#com um banner em específico\n",
        "def cria_submenu(nomes, banner):\n",
        "  cria_banner(banner)\n",
        "  for i, item in enumerate(nomes):\n",
        "      print(f'{i+1} - {item}\\n')"
      ],
      "execution_count": 2,
      "outputs": []
    },
    {
      "cell_type": "markdown",
      "metadata": {
        "id": "v_jwLMtlURcs"
      },
      "source": [
        "### **Classes**"
      ]
    },
    {
      "cell_type": "code",
      "metadata": {
        "id": "byxse2tV0Piq"
      },
      "source": [
        "from IPython.display import clear_output\n",
        "\n",
        "class Geral:\n",
        "  #Construtor com os atributos gerais para todas as classes\n",
        "  def __init__(self, nomes, descricao):\n",
        "    self.nomes = nomes\n",
        "    self.descricao = descricao\n",
        "\n",
        "  #Método que mostra a descricao de um objeto a partir do indice do item passado\n",
        "  #por parametro\n",
        "  def mostra_item_do_submenu(self, opcao):\n",
        "    clear_output()\n",
        "    cria_banner(self.nomes[opcao])\n",
        "    i = 0\n",
        "    #Pelo fato da string ser uma linha contínua, fez-se necessário\n",
        "    #quebrar ela em partes para melhor visualização\n",
        "    while i < len(self.descricao[opcao]):\n",
        "      print(self.descricao[opcao][i:i+40])\n",
        "      i += 40\n",
        "    input(\"Pressione Enter para continuar...\")\n",
        "\n",
        "#Aqui estão todas as minhas classes filhas que herdam da classe mãe\n",
        "#Com seus respectivos overrides\n",
        "\n",
        "class Personagens(Geral):\n",
        "  #Como cada tipo de objeto tem um banner diferente, é necessário fazer um over-\n",
        "  #ride em cada classe\n",
        "  def mostra_menu(self):\n",
        "    clear_output()\n",
        "    cria_submenu(self.nomes, 'Personagens')\n",
        "    return int(input('-> '))\n",
        "\n",
        "class Areas(Geral):\n",
        "  def mostra_menu(self):\n",
        "    clear_output()\n",
        "    cria_submenu(self.nomes, 'Area')\n",
        "    return int(input('-> '))\n",
        "\n",
        "class Inimigos(Geral):\n",
        "  def mostra_menu(self):\n",
        "    clear_output()\n",
        "    cria_submenu(self.nomes, 'Inimigos')\n",
        "    return int(input('-> '))"
      ],
      "execution_count": 3,
      "outputs": []
    },
    {
      "cell_type": "markdown",
      "metadata": {
        "id": "WUkI03kOUd7I"
      },
      "source": [
        "### **Buscando as informações**"
      ]
    },
    {
      "cell_type": "code",
      "metadata": {
        "id": "vnwM8RV2oejK"
      },
      "source": [
        "#Para pegar as informações de forma dinâmica realizei um scrap no meu \n",
        "#repositório do github nos arquivos de texto\n",
        "\n",
        "import requests #Realiza o request em forma de GET\n",
        "from bs4 import BeautifulSoup as bs #Realiza o scrap a partir de uma página HTML\n",
        "\n",
        "#Função responsável por pegar o contéudo HTML pela requisição do requests\n",
        "def get_html(search_data):\n",
        "  if search_data.status_code == 200:\n",
        "    return bs(search_data.content,'lxml')\n",
        "  else:\n",
        "    return f'{search_data.status_code}, : error'\n",
        "\n",
        "#Função responsável por pegar os dados do txt e separá-las em\n",
        "#informações válidas e organizadas \n",
        "\n",
        "def retorna_valores(url):\n",
        "  search_data = requests.get(url) #Realiza a requisição da url passada por parâmetro\n",
        "  soup = get_html(search_data) #Pega o conteúdo da requisição\n",
        "  \n",
        "  #Encontra todas as tags que tem essa classe (a classe que contém o conteúdo do\n",
        "  #repositório) e joga em uma lista\n",
        "  tags = soup.find_all(class_='blob-code-inner')  \n",
        "  texto = [tag.get_text() for tag in tags] #Pega apenas o texto das tags geradas anteriormente\n",
        "  return zip(*[i.split('|') for i in texto]) #Retorna duas listas em formato separado"
      ],
      "execution_count": 4,
      "outputs": []
    },
    {
      "cell_type": "markdown",
      "metadata": {
        "id": "VGkpHFl5Upmy"
      },
      "source": [
        "### **Criando os objetos**"
      ]
    },
    {
      "cell_type": "code",
      "metadata": {
        "id": "Lpw3psB7w_jJ"
      },
      "source": [
        "#Retornando os valores todos já organizados pela função anterior\n",
        "nome_pers , desc_pers  = retorna_valores('https://github.com/Pedro-Grajau/desafio1_trilhas/blob/main/Personagens.txt')\n",
        "nome_areas, desc_areas = retorna_valores('https://github.com/Pedro-Grajau/desafio1_trilhas/blob/main/Areas.txt')\n",
        "nome_inim , desc_inim  = retorna_valores('https://github.com/Pedro-Grajau/desafio1_trilhas/blob/main/Inimigos.txt')\n",
        "\n",
        "#Criando os objetos que usarei para executar os métodos\n",
        "personagem = Personagens(nome_pers, desc_pers)\n",
        "area = Areas(nome_areas, desc_areas)\n",
        "inimigo = Inimigos(nome_inim, desc_inim)"
      ],
      "execution_count": 5,
      "outputs": []
    },
    {
      "cell_type": "markdown",
      "metadata": {
        "id": "Vp-vsuvFUxnM"
      },
      "source": [
        "### **Menu Principal**"
      ]
    },
    {
      "cell_type": "code",
      "metadata": {
        "id": "SUdfDFiO4rYe"
      },
      "source": [
        "while True:\n",
        "  clear_output()\n",
        "  opcao = menu_principal()\n",
        "  \n",
        "  if opcao == 1:\n",
        "    opc_sub = personagem.mostra_menu() - 1 # -1 por causa do index\n",
        "    personagem.mostra_item_do_submenu(opc_sub)                              \n",
        "\n",
        "  elif opcao == 2:\n",
        "    opc_sub = area.mostra_menu() - 1\n",
        "    area.mostra_item_do_submenu(opc_sub)\n",
        "  \n",
        "  elif opcao == 3:\n",
        "    opc_sub = inimigo.mostra_menu() - 1\n",
        "    inimigo.mostra_item_do_submenu(opc_sub)\n",
        "  \n",
        "  elif opcao == 0:\n",
        "    break"
      ],
      "execution_count": null,
      "outputs": []
    }
  ]
}