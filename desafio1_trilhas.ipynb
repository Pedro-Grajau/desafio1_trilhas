{
  "nbformat": 4,
  "nbformat_minor": 0,
  "metadata": {
    "colab": {
      "name": "desafio1_trilhas.ipynb",
      "provenance": []
    },
    "kernelspec": {
      "display_name": "Python 3",
      "name": "python3"
    },
    "language_info": {
      "name": "python"
    }
  },
  "cells": [
    {
      "cell_type": "markdown",
      "metadata": {
        "id": "ybQbVxmqD66h"
      },
      "source": [
        "Funções utilitárias dentro do código"
      ]
    },
    {
      "cell_type": "code",
      "metadata": {
        "id": "aesJFDiC3Jtk"
      },
      "source": [
        "#Cria um banner de apresentação para cada item dentro do menu\n",
        "def cria_banner(string):\n",
        "  print('-' * 40)\n",
        "  print(string.center(40))\n",
        "  print('-' * 40 + '\\n')\n",
        "\n",
        "#Menu principal da aplicação\n",
        "def menu_principal():\n",
        "  cria_banner('Super Metroid (1994)')\n",
        "  print('1 - Personagens\\n')\n",
        "  print('2 - Áreas\\n')\n",
        "  print('3 - Inimigos\\n')\n",
        "  print('0 - Sair\\n')\n",
        "  return int(input('-> '))\n",
        "\n",
        "#Cria um submenu apartir da quantidade de nomes dentro de uma lista e\n",
        "#com um banner em específico\n",
        "def cria_submenu(nomes, banner):\n",
        "  cria_banner(banner)\n",
        "  for i, item in enumerate(nomes):\n",
        "      print(f'{i+1} - {item}\\n')"
      ],
      "execution_count": 1,
      "outputs": []
    },
    {
      "cell_type": "markdown",
      "metadata": {
        "id": "Y4TOn1tHFMTX"
      },
      "source": [
        "Célula que contêm todas as classes"
      ]
    },
    {
      "cell_type": "code",
      "metadata": {
        "id": "byxse2tV0Piq"
      },
      "source": [
        "#Biblioteca importada para limpeza e organização dos outputs\n",
        "from IPython.display import clear_output\n",
        "\n",
        "#A classe geral é a classe mãe onde todos as minhas classes irão herdar.\n",
        "#Nela estão todos os métodos necessários para a implantação do código \n",
        "class Geral:\n",
        "  #Construtor de todas as classes em geral\n",
        "  def __init__(self, nomes, descricao):\n",
        "    self.nomes = nomes\n",
        "    self.descricao = descricao\n",
        "\n",
        "  #Método que mostra a descricao de um objeto a partir do indice do item passado\n",
        "  #por parametro\n",
        "  def mostra_submenu(self, opcao):\n",
        "    clear_output()\n",
        "    cria_banner(self.nomes[opcao])\n",
        "    i = 0\n",
        "    #Pelo fato da string ser uma linha contínua, fez-se necessário\n",
        "    #quebrar ela em partes para melhor visualização\n",
        "    while i < len(self.descricao[opcao]):\n",
        "      print(self.descricao[opcao][i:i+40])\n",
        "      i += 40\n",
        "    input(\"Pressione Enter para continuar...\")\n",
        "\n",
        "#Aqui estão todas as minhas classes filhas que herdam da classe mãe\n",
        "#Com seus respectivos overrides\n",
        "\n",
        "class Personagens(Geral):\n",
        "  #Como cada tipo de objeto tem um banner diferente, é necessário fazer um over-\n",
        "  #ride em cada classe\n",
        "  def mostra_menu(self):\n",
        "    clear_output()\n",
        "    cria_submenu(self.nomes, 'Personagens')\n",
        "    return int(input('-> '))\n",
        "\n",
        "class Areas(Geral):\n",
        "  def mostra_menu(self):\n",
        "    clear_output()\n",
        "    cria_submenu(self.nomes, 'Area')\n",
        "    return int(input('-> '))\n",
        "\n",
        "class Inimigos(Geral):\n",
        "  def mostra_menu(self):\n",
        "    clear_output()\n",
        "    cria_submenu(self.nomes, 'Inimigos')\n",
        "    return int(input('-> '))"
      ],
      "execution_count": 3,
      "outputs": []
    },
    {
      "cell_type": "code",
      "metadata": {
        "id": "Lpw3psB7w_jJ"
      },
      "source": [
        "#Função responsável por pegar os dados do txt e separá-las em\n",
        "#informações válidas e organizadas \n",
        "\n",
        "def retorna_valores(arquivo_txt):\n",
        "  texto = open(arquivo_txt, 'r').readlines()\n",
        "  #Essa função é responsável por fazer o 'unpack' da lista do txt com o '*'\n",
        "  #e separar em duas informações com o 'zip', tudo isso envolvendo uma compree-\n",
        "  #são de lista\n",
        "  return zip(*[i.split('|') for i in texto])\n",
        "\n",
        "#Retornando os valores todos já organizados pela função anterior\n",
        "nome_pers , desc_pers  = retorna_valores('Personagens.txt')\n",
        "nome_areas, desc_areas = retorna_valores('Areas.txt')\n",
        "nome_inim , desc_inim  = retorna_valores('Inimigos.txt')\n",
        "\n",
        "#Criando os objetos que usarei para executar os métodos\n",
        "personagem = Personagens(nome_pers, desc_pers)\n",
        "area = Areas(nome_areas, desc_areas)\n",
        "inimigo = Inimigos(nome_inim, desc_inim)"
      ],
      "execution_count": 9,
      "outputs": []
    },
    {
      "cell_type": "code",
      "metadata": {
        "id": "SUdfDFiO4rYe"
      },
      "source": [
        "while True:\n",
        "  clear_output()\n",
        "  opcao = menu_principal()\n",
        "  \n",
        "  if opcao == 1:\n",
        "    sub = personagem.mostra_menu()\n",
        "    personagem.mostra_submenu(sub-1)\n",
        "                              \n",
        "  elif opcao == 2:\n",
        "    sub = area.mostra_menu()\n",
        "    area.mostra_submenu(sub-1)\n",
        "  \n",
        "  elif opcao == 3:\n",
        "    sub = inimigo.mostra_menu()\n",
        "    inimigo.mostra_submenu(sub-1)\n",
        "  \n",
        "  elif opcao == 0:\n",
        "    break"
      ],
      "execution_count": null,
      "outputs": []
    },
    {
      "cell_type": "code",
      "metadata": {
        "id": "E3F-EvIESMnE"
      },
      "source": [
        "import requests\n",
        "from bs4 import BeautifulSoup as bs\n",
        "\n",
        "def get_html(search_data):\n",
        "  if search_data.status_code == 200:\n",
        "    return bs(search_data.content,'lxml')\n",
        "  else:\n",
        "    return f'{search_data.status_code}, : error'\n",
        "\n",
        "search_url = 'https://dontpad.herokuapp.com/areas_metroid/view'\n",
        "search_data = requests.get(search_url)\n",
        "\n",
        "soup = get_html(search_data)"
      ],
      "execution_count": 18,
      "outputs": []
    }
  ]
}